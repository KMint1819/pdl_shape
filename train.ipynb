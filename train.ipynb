{
 "cells": [
  {
   "source": [
    "## Google"
   ],
   "cell_type": "markdown",
   "metadata": {}
  },
  {
   "cell_type": "code",
   "execution_count": null,
   "id": "11e7d674",
   "metadata": {},
   "outputs": [],
   "source": [
    "from google.colab import drive\n",
    "from pathlib import Path\n",
    "\n",
    "!cat /proc/cpuinfo\n",
    "!nvidia-smi\n",
    "remount = True\n",
    "drive.mount(\"/content/gdrive\", force_remount=remount)\n",
    "root = Path.cwd() \n",
    "print(\"root is at\", root)"
   ]
  },
  {
   "source": [
    "## Imports"
   ],
   "cell_type": "markdown",
   "metadata": {}
  },
  {
   "cell_type": "code",
   "execution_count": null,
   "metadata": {},
   "outputs": [],
   "source": [
    "import lib\n",
    "from tensorflow.keras import (\n",
    "    Sequential,\n",
    "    layers,\n",
    "    optimizers,\n",
    "    losses,\n",
    "    preprocessing,\n",
    "    applications,\n",
    "    activations,\n",
    "    callbacks,\n",
    "    metrics)\n",
    "import pandas as pd\n",
    "import cv2 as cv\n",
    "import numpy as np\n",
    "from pathlib import Path\n",
    "import tensorflow as tf"
   ]
  },
  {
   "source": [
    "## Model"
   ],
   "cell_type": "markdown",
   "metadata": {}
  },
  {
   "cell_type": "code",
   "execution_count": null,
   "metadata": {},
   "outputs": [],
   "source": [
    "\n",
    "model = Sequential([\n",
    "    applications.EfficientNetB0(\n",
    "        input_shape=(224, 224, 3),\n",
    "        include_top=False,\n",
    "        pooling=None),\n",
    "    layers.Flatten(),\n",
    "    layers.Dense(16),\n",
    "    layers.Dense(3, activation=activations.relu)\n",
    "])\n",
    "# model = Sequential([\n",
    "#     layers.Input(shape=(100, 100, 3)),\n",
    "#     layers.Flatten(),\n",
    "#     layers.Dense(1)\n",
    "# ])\n",
    "model.summary()\n",
    "model.compile(\n",
    "    optimizer=optimizers.Adam(1e-4),\n",
    "    loss=losses.MSE,\n",
    "    metrics=['acc', 'mse'])"
   ]
  },
  {
   "source": [
    "## Data\n"
   ],
   "cell_type": "markdown",
   "metadata": {}
  },
  {
   "cell_type": "code",
   "execution_count": null,
   "metadata": {},
   "outputs": [],
   "source": [
    "\n",
    "save_dir = lib.get_save_dir(\"runs/train\")\n",
    "data_root = Path(\"/dataset/data01\")\n",
    "label_path = data_root / \"train_data01.csv\"\n",
    "images_dir = data_root / \"train_data01\"\n",
    "df = pd.read_csv(str(label_path))\n",
    "df.iloc[:, 0] = df.iloc[:, 0].astype(str) + \".jpg\"\n",
    "print(df.iloc[:, 0])\n",
    "print(df.head(10))\n",
    "datagen = preprocessing.image.ImageDataGenerator(validation_split=0.2)\n",
    "train_gen = datagen.flow_from_dataframe(\n",
    "    dataframe=df,\n",
    "    directory=images_dir,\n",
    "    x_col=\"id\",\n",
    "    y_col=['circle', 'square', 'triangle'],\n",
    "    class_mode='raw',\n",
    "    target_size=(224, 224),\n",
    "    batch_size=4,\n",
    "    subset='training',\n",
    "    interpolation='bicubic',\n",
    "    seed=0\n",
    ")\n",
    "val_gen = datagen.flow_from_dataframe(\n",
    "    dataframe=df,\n",
    "    directory=images_dir,\n",
    "    x_col=\"id\",\n",
    "    y_col=['circle', 'square', 'triangle'],\n",
    "    class_mode='raw',\n",
    "    target_size=(224, 224),\n",
    "    batch_size=1,\n",
    "    subset='validation',\n",
    "    interpolation='bicubic',\n",
    "    seed=0"
   ]
  },
  {
   "source": [
    "## Train"
   ],
   "cell_type": "markdown",
   "metadata": {}
  },
  {
   "cell_type": "code",
   "execution_count": null,
   "metadata": {},
   "outputs": [],
   "source": [
    "history = model.fit(train_gen,\n",
    "                    epochs=50,\n",
    "                    callbacks=[\n",
    "                        callbacks.EarlyStopping(patience=5),\n",
    "                        callbacks.ModelCheckpoint(\n",
    "                            filepath=str(\n",
    "                                save_dir / '{epoch:02d}_{val_acc:.4f}_{val_loss:.4f}.hdf5'),\n",
    "                            monitor='val_loss',\n",
    "                        ),\n",
    "                        callbacks.TensorBoard(\n",
    "                            log_dir=str(save_dir / 'logs')\n",
    "                        ),\n",
    "                        callbacks.History()\n",
    "                    ],\n",
    "                    validation_data=val_gen)\n",
    "print(history)\n"
   ]
  }
 ],
 "metadata": {
  "kernelspec": {
   "display_name": "Python 3",
   "language": "python",
   "name": "python3"
  },
  "language_info": {
   "codemirror_mode": {
    "name": "ipython",
    "version": 3
   },
   "file_extension": ".py",
   "mimetype": "text/x-python",
   "name": "python",
   "nbconvert_exporter": "python",
   "pygments_lexer": "ipython3",
   "version": "3.7.10"
  }
 },
 "nbformat": 4,
 "nbformat_minor": 5
}